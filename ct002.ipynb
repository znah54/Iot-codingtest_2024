{
 "cells": [
  {
   "cell_type": "markdown",
   "metadata": {},
   "source": [
    "#### 예제 3-1 거스름돈\n",
    "- 카운터에 500원, 100원, 50원, 10원이 무한대로 존재\n"
   ]
  },
  {
   "cell_type": "code",
   "execution_count": 1,
   "metadata": {},
   "outputs": [
    {
     "name": "stdout",
     "output_type": "stream",
     "text": [
      "6\n"
     ]
    }
   ],
   "source": [
    "n = 1260\n",
    "count = 0\n",
    "temp = 0\n",
    "\n",
    "# 동전을 전부 나열\n",
    "coin_types=[500,100,50,10]\n",
    "\n",
    "for coin in coin_types:\n",
    "    temp = n\n",
    "    count += int(n/coin)\n",
    "    n=n%coin\n",
    "\n",
    "print(count)\n"
   ]
  },
  {
   "cell_type": "markdown",
   "metadata": {},
   "source": []
  },
  {
   "cell_type": "code",
   "execution_count": 6,
   "metadata": {},
   "outputs": [
    {
     "name": "stdout",
     "output_type": "stream",
     "text": [
      "10\n"
     ]
    },
    {
     "ename": "",
     "evalue": "",
     "output_type": "error",
     "traceback": [
      "\u001b[1;31mThe Kernel crashed while executing code in the the current cell or a previous cell. Please review the code in the cell(s) to identify a possible cause of the failure. Click <a href='https://aka.ms/vscodeJupyterKernelCrash'>here</a> for more info. View Jupyter <a href='command:jupyter.viewOutput'>log</a> for further details."
     ]
    }
   ],
   "source": [
    "## 백준 5585번\n",
    "n = int(input())\n",
    "c = 1000\n",
    "count = 0\n",
    "temp = 0\n",
    "\n",
    "coin_types = [500, 100, 50, 10, 5, 1]\n",
    "\n",
    "c -= n\n",
    "\n",
    "for coin in coin_types:\n",
    "    temp = c\n",
    "    count += int(c/coin)\n",
    "    c = c % coin\n",
    "\n",
    "print(count)"
   ]
  },
  {
   "cell_type": "code",
   "execution_count": null,
   "metadata": {},
   "outputs": [],
   "source": []
  },
  {
   "cell_type": "markdown",
   "metadata": {},
   "source": [
    "#### Page99 1이 될때까지\n",
    "- 어떤 수 N이 1이 될때까지\n",
    "    - N에서 1을 뺌\n",
    "    - N을 K로 나눔\n",
    "    - N=17, K=4\n",
    "        - 4를 네번빼면..."
   ]
  },
  {
   "cell_type": "code",
   "execution_count": null,
   "metadata": {},
   "outputs": [],
   "source": [
    "## x입력\n",
    "x = int(input())\n",
    "count = 0\n",
    "\n",
    "while True:\n",
    "    if x == 1:break\n",
    "\n",
    "    "
   ]
  }
 ],
 "metadata": {
  "kernelspec": {
   "display_name": "Python 3",
   "language": "python",
   "name": "python3"
  },
  "language_info": {
   "codemirror_mode": {
    "name": "ipython",
    "version": 3
   },
   "file_extension": ".py",
   "mimetype": "text/x-python",
   "name": "python",
   "nbconvert_exporter": "python",
   "pygments_lexer": "ipython3",
   "version": "3.11.5"
  }
 },
 "nbformat": 4,
 "nbformat_minor": 2
}
